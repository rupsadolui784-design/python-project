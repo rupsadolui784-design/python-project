{
  "metadata": {
    "kernelspec": {
      "name": "python",
      "display_name": "Python (Pyodide)",
      "language": "python"
    },
    "language_info": {
      "codemirror_mode": {
        "name": "python",
        "version": 3
      },
      "file_extension": ".py",
      "mimetype": "text/x-python",
      "name": "python",
      "nbconvert_exporter": "python",
      "pygments_lexer": "ipython3",
      "version": "3.8"
    }
  },
  "nbformat_minor": 5,
  "nbformat": 4,
  "cells": [
    {
      "id": "8068d61a-6220-4ef0-b53b-4cefbb2d977e",
      "cell_type": "code",
      "source": "E = {0, 2, 4, 6, 8}\nN = {1, 2, 3, 4, 5}\n\nprint(\"Union of E and N is\", E | N)\nprint(\"Intersection of E and N is\", E & N)\nprint(\"Difference of E and N is\", E - N)\nprint(\"Symmetric difference of E and N is\", E ^ N)",
      "metadata": {
        "trusted": true
      },
      "outputs": [
        {
          "name": "stdout",
          "output_type": "stream",
          "text": "Union of E and N is {0, 1, 2, 3, 4, 5, 6, 8}\nIntersection of E and N is {2, 4}\nDifference of E and N is {0, 8, 6}\nSymmetric difference of E and N is {0, 1, 3, 5, 6, 8}\n"
        }
      ],
      "execution_count": 1
    },
    {
      "id": "074e88c1-cf10-4dbe-990d-d36b2aaa96a5",
      "cell_type": "code",
      "source": "",
      "metadata": {
        "trusted": true
      },
      "outputs": [],
      "execution_count": null
    }
  ]
}